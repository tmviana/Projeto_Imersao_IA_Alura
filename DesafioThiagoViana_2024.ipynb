{
  "cells": [
    {
      "cell_type": "markdown",
      "metadata": {
        "id": "view-in-github",
        "colab_type": "text"
      },
      "source": [
        "<a href=\"https://colab.research.google.com/github/tmviana/Projeto_Imersao_IA_Alura/blob/main/DesafioThiagoViana_2024.ipynb\" target=\"_parent\"><img src=\"https://colab.research.google.com/assets/colab-badge.svg\" alt=\"Open In Colab\"/></a>"
      ]
    },
    {
      "cell_type": "markdown",
      "metadata": {
        "id": "7T5OI70hos8_"
      },
      "source": [
        "# Configurações"
      ]
    },
    {
      "cell_type": "code",
      "execution_count": 1,
      "metadata": {
        "id": "-QxqVAyAYkGV"
      },
      "outputs": [],
      "source": [
        "!pip install -q -U google-generativeai\n",
        "\n",
        "# Import the Python SDK\n",
        "import google.generativeai as genai\n",
        "\n",
        "GOOGLE_API_KEY='COLE_AQUI_SUA_API_KEY'\n",
        "genai.configure(api_key=GOOGLE_API_KEY)\n",
        "\n",
        "generation_config = {\n",
        "  \"candidate_count\": 1,\n",
        "  \"temperature\": 1,\n",
        "}\n",
        "\n",
        "safety_settings={\n",
        "    'HATE': 'BLOCK_NONE',\n",
        "    'HARASSMENT': 'BLOCK_NONE',\n",
        "    'SEXUAL' : 'BLOCK_NONE',\n",
        "    'DANGEROUS' : 'BLOCK_NONE'\n",
        "    }\n",
        "\n",
        "model = genai.GenerativeModel(model_name='gemini-1.5-pro-latest',\n",
        "                              generation_config=generation_config,\n",
        "                              safety_settings=safety_settings,)"
      ]
    },
    {
      "cell_type": "markdown",
      "metadata": {
        "id": "9qZQCa4HlvKW"
      },
      "source": [
        "# MVP: Kora - IA Auxiliar de Atendimento em Emergência\n",
        "\n",
        "Objetivo: aumentar a velocidade e, principalmente, efetividade dos atendimentos em hospitais para que mais pessoas possam ser atendidas diariamente, e para que o bot cuide de aspectos mais técnicos e os Profissionais da Saúde\n",
        "possam se atentar a um atendimento mais humanizado."
      ]
    },
    {
      "cell_type": "markdown",
      "metadata": {
        "id": "FKRvEAWkltBn"
      },
      "source": [
        "O sistema será dividido em 3 interfaces e terá interação com 3 personas diferentes:\n",
        "\n",
        "**1) Pacientes** - Informarão seus sintomas para que a IA Kora faça uma pré-triagem, que será enviada para as enfermeiras.\n",
        "\n",
        "**2) Enfermeiras de Triagem** - Irão conferir com o paciente e informar para a IA o nível de dor e a temperatura corporal da pessoa, além de analisar e confirmar os diagnósticos de pré-triagem gerados pela IA antes de enviar para o médico. A IA também irá sugerir um grau de urgência para aquele atendimento.\n",
        "\n",
        "**3) Médicas** - Receberão todas as informações de triagem, validados pelas enfermeiras, para que essas informações possam ajudar no seu diagnóstico. Após a conclusão, vai adicionar a doença ou quadro clínico do paciente, na IA, e receber indicações sobre tratamentos e possibilidades de medicamentos que possam ser receitados."
      ]
    },
    {
      "cell_type": "markdown",
      "metadata": {
        "id": "dknUc86Fogza"
      },
      "source": [
        "## Persona 1 - Pacientes\n"
      ]
    },
    {
      "cell_type": "code",
      "execution_count": 20,
      "metadata": {
        "colab": {
          "base_uri": "https://localhost:8080/"
        },
        "id": "bRd7AY1YY7un",
        "outputId": "655fb979-aac8-463e-a819-fe9f923b2e47"
      },
      "outputs": [
        {
          "output_type": "stream",
          "name": "stdout",
          "text": [
            "| ASSISTENTE VIRTUAL DA PACIENTE |\n",
            "\n",
            "\n",
            "Olá! Sou Kora, sua enfermeira virtual. Digite seu nome completo: 👇\n",
            "Thiago Viana\n",
            "\n",
            "\n",
            "Por favor, digite os sintomas que você está sentindo: 👇\n",
            "Dor no corpo e febre\n",
            "\n",
            "\n",
            "Obrigada, espero que melhore logo! Em breve chamaremos você.\n"
          ]
        }
      ],
      "source": [
        "chat = model.start_chat(history=[])\n",
        "\n",
        "print(\"| ASSISTENTE VIRTUAL DA PACIENTE |\")\n",
        "print(\"\\n\")\n",
        "\n",
        "print(\"Olá! Sou Kora, sua enfermeira virtual. Digite seu nome completo: 👇\")\n",
        "nome_paciente = input()\n",
        "\n",
        "print(\"\\n\")\n",
        "print(\"Por favor, digite os sintomas que você está sentindo: 👇\")\n",
        "sintomas = input()\n",
        "\n",
        "print(\"\\n\")\n",
        "print(\"Obrigada, espero que melhore logo! Em breve chamaremos você.\")"
      ]
    },
    {
      "cell_type": "markdown",
      "metadata": {
        "id": "oz0R01Hhxiut"
      },
      "source": [
        "# Persona 2 - Enfermeiras de Triagem"
      ]
    },
    {
      "cell_type": "code",
      "execution_count": 21,
      "metadata": {
        "colab": {
          "base_uri": "https://localhost:8080/",
          "height": 1000
        },
        "id": "fE9MmQEhmWxn",
        "outputId": "2a5c244b-5258-4416-e45b-19773ad3555e"
      },
      "outputs": [
        {
          "output_type": "stream",
          "name": "stdout",
          "text": [
            "| ASSISTENTE VIRTUAL DA ENFERMEIRA |\n",
            "\n",
            "Analise o estado do(a) paciente e responda: \n",
            "\n",
            "Qual sua temperatura corporal?\n",
            "38,8\n",
            "\n",
            "\n",
            "Qual o nível de dor que está sentindo? Preencha com: nenhum, leve, moderada, alta ou intensa.\n",
            "moderada\n",
            "\n",
            "\n",
            "Sintomas que Thiago Viana relatou:\n",
            "Dor no corpo e febre\n",
            "\n",
            "\n",
            "Possíveis casos clínicos do(a) paciente:\n",
            "*   **Gripe (Influenza)** (40% de chance): A gripe é uma infecção viral comum que causa febre, dor no corpo, tosse, dor de garganta e fadiga. É altamente contagiosa e se espalha facilmente pelo ar quando pessoas infectadas tossem ou espirram. A temperatura corporal de 38,8°C está dentro da faixa típica de febre para a gripe.\n",
            "*   **Resfriado comum** (30% de chance): O resfriado comum é outra infecção viral que compartilha alguns sintomas com a gripe, como febre baixa, dor no corpo e dor de garganta. No entanto, os resfriados geralmente são mais leves que a gripe e têm menor probabilidade de causar febre alta.\n",
            "*   **COVID-19** (15% de chance): A COVID-19 é uma doença respiratória causada pelo vírus SARS-CoV-2. Os sintomas podem variar amplamente, desde leves até graves, e incluem febre, tosse, fadiga e dor no corpo. Embora a prevalência da COVID-19 tenha diminuído, ainda é possível contrair a doença, e a febre é um sintoma comum.\n",
            "*   **Dengue** (10% de chance): A dengue é uma doença viral transmitida por mosquitos que causa febre alta, dor de cabeça intensa, dor muscular e nas articulações, erupção cutânea e, em casos graves, sangramento. A presença de febre de 38,8°C é consistente com a dengue, mas a ausência de outros sintomas comuns, como dor de cabeça intensa e erupção cutânea, torna essa possibilidade menos provável.\n",
            "*   **Malária** (5% de chance): A malária é uma doença transmitida por mosquitos causada por parasitas. Ela causa febre, calafrios, suor, dor de cabeça, dor no corpo e fadiga. A malária é mais comum em regiões tropicais e subtropicais. Embora a febre seja um sintoma comum da malária, a probabilidade é menor devido à localização geográfica e à ausência de outros sintomas típicos, como calafrios e suor. \n",
            " \n",
            "\n",
            "➡️ CONFIRMAÇÃO\n",
            "Deseja enviar esse diagnóstico para o Médico? Digite Sim para enviar ou Não para revisar os sintomas.\n",
            "Não\n",
            "\n",
            "\n",
            "Converse com o(a) paciente e informe novamente os sintomas com mais detalhes:\n",
            "Dor o corpo, manchas vermelhas no corpo, vômitos, dor de cabeça, febre\n",
            "\n",
            "\n",
            "Possíveis casos clínicos do(a) paciente:\n",
            "*   **Dengue** (50% de chance): Os sintomas descritos, incluindo febre, dor no corpo, dor de cabeça, erupção cutânea (manchas vermelhas) e vômitos, são altamente sugestivos de dengue. A dengue é transmitida por mosquitos e é conhecida por causar uma erupção cutânea distinta que pode aparecer como manchas vermelhas no corpo.\n",
            "*   **Zika vírus** (20% de chance): O Zika vírus compartilha alguns sintomas com a dengue, incluindo febre, erupção cutânea, dor de cabeça e dor no corpo. No entanto, o Zika geralmente causa sintomas mais leves do que a dengue e os vômitos são menos comuns. \n",
            "*   **Chikungunya** (15% de chance): A chikungunya é outra doença viral transmitida por mosquitos que causa febre, dor nas articulações, dor de cabeça e erupção cutânea. Embora a erupção cutânea da chikungunya possa se assemelhar à da dengue, a dor nas articulações é um sintoma mais proeminente na chikungunya.\n",
            "*   **Sarampo** (10% de chance): O sarampo é uma doença viral altamente contagiosa que causa febre, tosse, coriza, olhos vermelhos e erupção cutânea. A erupção cutânea do sarampo geralmente começa no rosto e se espalha para o resto do corpo. Embora os vômitos possam ocorrer no sarampo, não são tão comuns quanto em outras doenças virais como a dengue.\n",
            "*   **Meningite** (5% de chance): A meningite é uma inflamação das meninges, que são as membranas que envolvem o cérebro e a medula espinhal. Ela pode ser causada por bactérias, vírus ou fungos. Os sintomas da meningite podem incluir febre, dor de cabeça, rigidez no pescoço, náuseas e vômitos. Embora a febre e os vômitos sejam consistentes com a meningite, a ausência de outros sintomas neurológicos, como rigidez no pescoço, torna essa possibilidade menos provável. \n",
            " \n",
            "\n",
            "➡️ CONFIRMAÇÃO\n",
            "Deseja enviar esse diagnóstico para o Médico? Digite Sim para enviar ou Não para revisar os sintomas.\n",
            "sim\n",
            "\n",
            "\n",
            "--------------------\n",
            "Relatório enviado. ↪️\n",
            "--------------------\n",
            "\n",
            "\n",
            "⚠️ NÍVEL DE URGÊNCIA SUGERIDA: 7 \n",
            "\n",
            "Febre moderada e dor moderada requerem avaliação médica, mas não indicam uma situação de risco de vida imediato. \n",
            "\n",
            "🟡 Encaminhe o paciente para a fila de atendimento médico.\n"
          ]
        }
      ],
      "source": [
        "print(\"| ASSISTENTE VIRTUAL DA ENFERMEIRA |\\n\")\n",
        "\n",
        "\n",
        "#TRIAGEM\n",
        "\n",
        "print(\"Analise o estado do(a) paciente e responda:\", \"\\n\")\n",
        "print(\"Qual sua temperatura corporal?\")\n",
        "temperatura = input()\n",
        "print(\"\\n\")\n",
        "print(\"Qual o nível de dor que está sentindo? Preencha com: nenhum, leve, moderada, alta ou intensa.\")\n",
        "dor = input()\n",
        "\n",
        "\n",
        "#ANÁLISE DOS SIMTOMAS E DIAGNÓSTICO DA IA\n",
        "\n",
        "print(\"\\n\")\n",
        "print(f\"Sintomas que {nome_paciente} relatou:\")\n",
        "print(sintomas)\n",
        "\n",
        "sintomas_prompt = (f'Considere os sintomas a seguir: {sintomas}. Considerede a temperatura corporal a seguir: {temperatura}. Cite algumas doenças em tópicos, por ordem de maior chance para menor chance, com porcentagens. Justifique. Utilize textos curtos. Não ofereça recomendações. Não adicione um título aos tópicos. Não use negrito na formatação do texto.')\n",
        "print(\"\\n\")\n",
        "print(\"Possíveis casos clínicos do(a) paciente:\")\n",
        "response_paciente = chat.send_message(sintomas_prompt)\n",
        "print(response_paciente.text, \"\\n\")\n",
        "\n",
        "#Variáveis para o while\n",
        "while_titulo1 = \"➡️ CONFIRMAÇÃO\"\n",
        "while_texto = \"Deseja enviar esse diagnóstico para o Médico? Digite Sim para enviar ou Não para revisar os sintomas.\"\n",
        "\n",
        "\n",
        "print(while_titulo1)\n",
        "print(while_texto)\n",
        "confirmacao = input().lower()\n",
        "\n",
        "while confirmacao != \"sim\":\n",
        "   print(\"\\n\")\n",
        "   print(\"Converse com o(a) paciente e informe novamente os sintomas com mais detalhes:\")\n",
        "   sintomas = input()\n",
        "   sintomas_prompt = (f'Considere os sintomas a seguir: {sintomas}. Considerede a temperatura corporal a seguir: {temperatura}. Cite possíveis doenças em tópicos, por ordem de maior chance para menor chance, com porcentagens. Justifique. Utilize textos curtos. Não ofereça recomendações. Não adicione um título aos tópicos. Não use negrito na formatação do texto.')\n",
        "   print(\"\\n\")\n",
        "   print(\"Possíveis casos clínicos do(a) paciente:\")\n",
        "   response_paciente = chat.send_message(sintomas_prompt)\n",
        "   print(response_paciente.text, \"\\n\")\n",
        "\n",
        "   print(while_titulo1)\n",
        "   print(while_texto)\n",
        "   confirmacao = input().lower()\n",
        "\n",
        "print(\"\\n\")\n",
        "print(\"--------------------\")\n",
        "print(\"Relatório enviado. ↪️\")\n",
        "print(\"--------------------\")\n",
        "\n",
        "\n",
        "#ANÁLISE DO NÍVEL DE URGÊNCIA\n",
        "\n",
        "urgencia_prompt = (f'Considere que um paciente na emergência está com esta temperatura corporal: {temperatura}. Considere ainda que ele está com esse nível de dor {dor}. Em uma escala de 1 a 10, onde 1 é atendimento com pouca urgência e 10 é atendimento com muita urgência, imprima apenas o número que representa o nível de urgência deste atendimento. Não use nenhum tipo de formatação.')\n",
        "print(\"\\n\")\n",
        "response_urgencia = chat.send_message(urgencia_prompt)\n",
        "print(\"⚠️ NÍVEL DE URGÊNCIA SUGERIDA:\", response_urgencia.text)\n",
        "\n",
        "urgencia_justificativa_prompt = (f'Considere que um paciente na emergência está com esta temperatura corporal: {temperatura}. Considere ainda que ele está com esse nível de dor {dor}. Em uma escala de 1 a 10, onde 1 é atendimento com pouca urgência e 10 é atendimento com muita urgência. Imprima apenas a justificativa da escolha em poucas palavras.')\n",
        "response_urgencia_justificativa = chat.send_message(urgencia_justificativa_prompt)\n",
        "print(response_urgencia_justificativa.text)\n",
        "\n",
        "urgencia_encaminhamento = int(response_urgencia.text)\n",
        "\n",
        "if urgencia_encaminhamento >= 8:\n",
        "  print('🔴 Encaminhe o paciente para o médico com urgência.')\n",
        "else:\n",
        "  print('🟡 Encaminhe o paciente para a fila de atendimento médico.')"
      ]
    },
    {
      "cell_type": "markdown",
      "metadata": {
        "id": "QLM0FuK5BPLv"
      },
      "source": [
        "# Persona 3 - Médicas"
      ]
    },
    {
      "cell_type": "code",
      "execution_count": 27,
      "metadata": {
        "colab": {
          "base_uri": "https://localhost:8080/",
          "height": 787
        },
        "id": "oFdxkr0DBUEb",
        "outputId": "8151c7ec-7205-4a01-e4f1-cea897e30d16"
      },
      "outputs": [
        {
          "output_type": "stream",
          "name": "stdout",
          "text": [
            "| ASSISTENTE VIRTUAL DA MÉDICA |\n",
            "\n",
            "\n",
            "Nome do(a) paciente: Thiago Viana\n",
            "\n",
            "INFORMAÇÕES VALIDADAS PELA TRIAGEM ⬇️\n",
            "\n",
            "Sintomas: Dor o corpo, manchas vermelhas no corpo, vômitos, dor de cabeça, febre\n",
            "\n",
            "Temperatura corporal: 38,8 graus\n",
            "\n",
            "Grua de dor do paciente: moderada\n",
            "\n",
            "Possíveis casos clínicos:\n",
            "*   **Dengue** (50% de chance): Os sintomas descritos, incluindo febre, dor no corpo, dor de cabeça, erupção cutânea (manchas vermelhas) e vômitos, são altamente sugestivos de dengue. A dengue é transmitida por mosquitos e é conhecida por causar uma erupção cutânea distinta que pode aparecer como manchas vermelhas no corpo.\n",
            "*   **Zika vírus** (20% de chance): O Zika vírus compartilha alguns sintomas com a dengue, incluindo febre, erupção cutânea, dor de cabeça e dor no corpo. No entanto, o Zika geralmente causa sintomas mais leves do que a dengue e os vômitos são menos comuns. \n",
            "*   **Chikungunya** (15% de chance): A chikungunya é outra doença viral transmitida por mosquitos que causa febre, dor nas articulações, dor de cabeça e erupção cutânea. Embora a erupção cutânea da chikungunya possa se assemelhar à da dengue, a dor nas articulações é um sintoma mais proeminente na chikungunya.\n",
            "*   **Sarampo** (10% de chance): O sarampo é uma doença viral altamente contagiosa que causa febre, tosse, coriza, olhos vermelhos e erupção cutânea. A erupção cutânea do sarampo geralmente começa no rosto e se espalha para o resto do corpo. Embora os vômitos possam ocorrer no sarampo, não são tão comuns quanto em outras doenças virais como a dengue.\n",
            "*   **Meningite** (5% de chance): A meningite é uma inflamação das meninges, que são as membranas que envolvem o cérebro e a medula espinhal. Ela pode ser causada por bactérias, vírus ou fungos. Os sintomas da meningite podem incluir febre, dor de cabeça, rigidez no pescoço, náuseas e vômitos. Embora a febre e os vômitos sejam consistentes com a meningite, a ausência de outros sintomas neurológicos, como rigidez no pescoço, torna essa possibilidade menos provável. \n",
            "\n",
            "\n",
            "\n",
            "--------------------------------------------------\n",
            "Prossiga com os diagnósticos e exames necessários.\n",
            "--------------------------------------------------\n",
            "\n",
            "Após sua análise da triagem, do paciente e dos exames, qual doença foi constatada?\n",
            "Dengue\n",
            "\n",
            "\n",
            "Tratamentos para a Doença:\n",
            "\n",
            "A dengue não tem um tratamento específico. O manejo da doença se concentra no alívio dos sintomas e na prevenção de complicações. Recomenda-se repouso, hidratação adequada e uso de medicamentos para controlar a febre e a dor, como paracetamol ou dipirona. Em casos graves, pode ser necessária hospitalização para monitoramento rigoroso e suporte de fluidos intravenosos.\n",
            "\n",
            "Medicamentos que Podem ser Utilizados:\n",
            "\n",
            "*   Paracetamol\n",
            "*   Dipirona\n",
            "*   Soro de reidratação oral \n",
            "\n",
            "Conte sempre comigo!\n",
            "-Kora 🤖\n"
          ]
        }
      ],
      "source": [
        "print(\"| ASSISTENTE VIRTUAL DA MÉDICA |\")\n",
        "print(\"\\n\")\n",
        "\n",
        "print(f\"Nome do(a) paciente: {nome_paciente}\\n\")\n",
        "\n",
        "print(\"INFORMAÇÕES VALIDADAS PELA TRIAGEM ⬇️\\n\")\n",
        "print(f\"Sintomas: {sintomas}\\n\")\n",
        "print(f\"Temperatura corporal: {temperatura} graus\\n\")\n",
        "print(f\"Grua de dor do paciente: {dor}\\n\")\n",
        "\n",
        "print(\"Possíveis casos clínicos:\")\n",
        "print(response_paciente.text)\n",
        "\n",
        "print(\"\\n\")\n",
        "print(\"--------------------------------------------------\")\n",
        "print(\"Prossiga com os diagnósticos e exames necessários.\")\n",
        "print(\"--------------------------------------------------\\n\")\n",
        "\n",
        "print(\"Após sua análise da triagem, do paciente e dos exames, qual doença foi constatada?\")\n",
        "quadro_clinico = input()\n",
        "print(\"\\n\")\n",
        "\n",
        "quadro_clinico_prompt = (f'Considera a doença: {quadro_clinico}. No primeiro tópico informe \"Tratamentos para a Doença:\" e exiba a frase como título de sessão. No segundo tópico informe \"Medicamentos que Podem ser Utilizados:\" e exiba a frase como título de sessão para essa doença. Os medicamentos podem, ou não, exigir receitas médicas. Não use negrito. Não imprima observações.')\n",
        "response_quadro_clinico = chat.send_message(quadro_clinico_prompt)\n",
        "print(response_quadro_clinico.text)\n",
        "\n",
        "print(\"Conte sempre comigo!\\n-Kora 🤖\")"
      ]
    }
  ],
  "metadata": {
    "colab": {
      "provenance": [],
      "authorship_tag": "ABX9TyP6V/BrOBlOTK2OxWbx/fvv",
      "include_colab_link": true
    },
    "kernelspec": {
      "display_name": "Python 3",
      "name": "python3"
    },
    "language_info": {
      "name": "python"
    }
  },
  "nbformat": 4,
  "nbformat_minor": 0
}